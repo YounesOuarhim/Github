{
 "cells": [
  {
   "cell_type": "markdown",
   "metadata": {},
   "source": [
    "# Choosing the convenient criteria:"
   ]
  },
  {
   "cell_type": "markdown",
   "metadata": {},
   "source": [
    "### Reading the data sets:"
   ]
  },
  {
   "cell_type": "code",
   "execution_count": 2,
   "metadata": {},
   "outputs": [],
   "source": [
    "import pandas as pd\n",
    "import numpy as np\n",
    "\n",
    "df = pd.read_csv(\"./data/accounts.csv\", sep=',')\n",
    "dg = pd.read_csv(\"./data/posts.csv\", sep=',')\n",
    "dc = pd.read_csv(\"./data/posts2.csv\", sep=',')"
   ]
  },
  {
   "cell_type": "markdown",
   "metadata": {},
   "source": [
    "### Measuring the correlation:"
   ]
  },
  {
   "cell_type": "code",
   "execution_count": 3,
   "metadata": {},
   "outputs": [
    {
     "name": "stdout",
     "output_type": "stream",
     "text": [
      "By the first data set fo instagram posts : \n",
      "The correlation between views and likes : 0.7453421189189953\n",
      "The correlation between views and comments : 0.7905439990474441\n",
      "The correlation between views and reposts :  0.007777942649383117\n",
      "By the second data set fo instagram posts : \n",
      "The correlation between views and likes : 0.7754383597780419\n",
      "The correlation between views and comments : 0.7516453902755174\n",
      "The correlation between views and reposts :  0.001945293895214025\n"
     ]
    }
   ],
   "source": [
    "views1=list(dg['views'])\n",
    "comments1=list(dg['comments'])\n",
    "views2=list(dc['views'])\n",
    "comments2=list(dc['comments'])\n",
    "likes1=list(dg['likes'])\n",
    "likes2=list(dc['likes'])\n",
    "reposts1=list(dg['reposts'])\n",
    "reposts2=list(dc['reposts'])\n",
    "\n",
    "\n",
    "# Calculating the correlation:\n",
    "\n",
    "correlation1 = np.corrcoef(views1, comments1)[0, 1]\n",
    "correlation2 = np.corrcoef(views2, comments2)[0, 1]\n",
    "correlation3= np.corrcoef(views1,likes1)[0, 1]\n",
    "correlation4 = np.corrcoef(views2,likes2)[0, 1]\n",
    "correlation5 = np.corrcoef(views1,reposts1)[0, 1]\n",
    "correlation6= np.corrcoef(views2,reposts2)[0, 1]\n",
    "\n",
    "print(f\"By the first data set fo instagram posts : \")\n",
    "print(f\"The correlation between views and likes : {correlation3}\")\n",
    "print(f\"The correlation between views and comments : {correlation1}\")\n",
    "print(f\"The correlation between views and reposts :  {correlation5}\")\n",
    "\n",
    "print(f\"By the second data set fo instagram posts : \")\n",
    "print(f\"The correlation between views and likes : {correlation4}\")\n",
    "print(f\"The correlation between views and comments : {correlation2}\")\n",
    "print(f\"The correlation between views and reposts :  {correlation6}\")\n",
    "\n"
   ]
  },
  {
   "cell_type": "markdown",
   "metadata": {},
   "source": [
    "### Conclusion:"
   ]
  },
  {
   "cell_type": "markdown",
   "metadata": {},
   "source": [
    "If a correlation coefficient is greater than 0.7 , then one can say that the correlation is extremely strong.\n",
    "According to our calculations, we deduce that likes and comments are well correlated with views. Therefore, there is no need to take likes and comments into consideration if we already have the number of views.\n",
    "\n",
    "However, the correlation between views and reposts is very low, that's why we cannot disregard the reposts."
   ]
  }
 ],
 "metadata": {
  "kernelspec": {
   "display_name": "Python 3",
   "language": "python",
   "name": "python3"
  },
  "language_info": {
   "codemirror_mode": {
    "name": "ipython",
    "version": 3
   },
   "file_extension": ".py",
   "mimetype": "text/x-python",
   "name": "python",
   "nbconvert_exporter": "python",
   "pygments_lexer": "ipython3",
   "version": "3.12.1"
  }
 },
 "nbformat": 4,
 "nbformat_minor": 2
}

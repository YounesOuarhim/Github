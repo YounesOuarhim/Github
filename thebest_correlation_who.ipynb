{
 "cells": [
  {
   "cell_type": "markdown",
   "metadata": {},
   "source": [
    "In this part of the code we try to assess the influence of several factors on the views of the posts."
   ]
  },
  {
   "cell_type": "markdown",
   "metadata": {},
   "source": [
    "Useful importations "
   ]
  },
  {
   "cell_type": "code",
   "execution_count": 5,
   "metadata": {},
   "outputs": [],
   "source": [
    "import pandas as pd\n",
    "import math as m \n",
    "import matplotlib.pyplot as plt\n",
    "import numpy as np"
   ]
  },
  {
   "cell_type": "markdown",
   "metadata": {},
   "source": [
    "Now we import the data"
   ]
  },
  {
   "cell_type": "code",
   "execution_count": 10,
   "metadata": {},
   "outputs": [
    {
     "name": "stdout",
     "output_type": "stream",
     "text": [
      "0       672702\n",
      "1       474227\n",
      "2       587566\n",
      "3       483543\n",
      "4       394103\n",
      "         ...  \n",
      "1189    122188\n",
      "1190    805219\n",
      "1191    174110\n",
      "1192    380289\n",
      "1193    688279\n",
      "Name: id_user, Length: 1194, dtype: int64\n"
     ]
    }
   ],
   "source": [
    "insta_accounts = pd.read_csv(\"instagram_accounts.csv\")\n",
    "insta_posts = pd.read_csv(\"instagram_posts_0911_1111.csv\")\n",
    "# print(insta_accounts[['sex','nb_posts']])\n",
    "print(insta_posts['id_user'])\n"
   ]
  },
  {
   "cell_type": "markdown",
   "metadata": {},
   "source": [
    "Then we try to see if women or men publish the most on instagram."
   ]
  },
  {
   "cell_type": "code",
   "execution_count": 7,
   "metadata": {},
   "outputs": [
    {
     "name": "stdout",
     "output_type": "stream",
     "text": [
      "Average number of posts women :  75.51773049645391\n",
      "Sum of women: 1551\n",
      "Average number of posts men :  78.18649732620321\n",
      "Sum of men: 1496\n"
     ]
    }
   ],
   "source": [
    "insta_sex = insta_accounts['sex']\n",
    "insta_posts = insta_accounts['nb_posts']\n",
    "\n",
    "\n",
    "mean_posts_w = 0\n",
    "sum_w = 0 \n",
    "mean_posts_m = 0\n",
    "sum_m = 0\n",
    "\n",
    "for i in range(len(insta_sex)):\n",
    "    if insta_sex[i] == \"female\":\n",
    "        mean_posts_w += insta_posts[i]\n",
    "        sum_w += 1\n",
    "    else :\n",
    "        mean_posts_m += insta_posts[i]\n",
    "        sum_m += 1\n",
    "    \n",
    "print(\"Average number of posts women : \",mean_posts_w/sum_w)\n",
    "print(\"Sum of women:\",sum_w)\n",
    "print(\"Average number of posts men : \",mean_posts_m/sum_m)\n",
    "print(\"Sum of men:\",sum_m)\n"
   ]
  },
  {
   "cell_type": "markdown",
   "metadata": {},
   "source": [
    "Then we will assess which category gets the most view on its posts."
   ]
  },
  {
   "cell_type": "code",
   "execution_count": 11,
   "metadata": {},
   "outputs": [
    {
     "name": "stdout",
     "output_type": "stream",
     "text": [
      "49156\n",
      "596\n",
      "49526\n",
      "599\n"
     ]
    }
   ],
   "source": [
    "insta_accounts = pd.read_csv(\"instagram_accounts.csv\")\n",
    "insta_posts = pd.read_csv(\"instagram_posts_0911_1111.csv\")\n",
    "insta_id_account = insta_accounts['id_user']\n",
    "insta_sex = insta_accounts['sex']\n",
    "insta_id_post = insta_posts['id_user']\n",
    "insta_view_post = insta_posts['views']\n",
    "\n",
    "sum_view_w = 0\n",
    "sum_posts_w = 0\n",
    "sum_view_m = 0\n",
    "sum_posts_m = 0\n",
    "\n",
    "for i in range(len(insta_id_account)):\n",
    "    for j in range(len(insta_view_post)):\n",
    "        if insta_id_account[i] == insta_id_post[j]:\n",
    "            if insta_sex[i] == \"female\":\n",
    "                sum_view_w += insta_view_post[j]\n",
    "                sum_posts_w += 1\n",
    "            else :\n",
    "                sum_view_m += insta_view_post[j]\n",
    "                sum_posts_m += 1\n",
    "\n",
    "print(sum_view_w)\n",
    "print(sum_posts_w)\n",
    "print(sum_view_m)\n",
    "print(sum_posts_m)\n"
   ]
  }
 ],
 "metadata": {
  "kernelspec": {
   "display_name": "Python 3",
   "language": "python",
   "name": "python3"
  },
  "language_info": {
   "codemirror_mode": {
    "name": "ipython",
    "version": 3
   },
   "file_extension": ".py",
   "mimetype": "text/x-python",
   "name": "python",
   "nbconvert_exporter": "python",
   "pygments_lexer": "ipython3",
   "version": "3.12.0"
  }
 },
 "nbformat": 4,
 "nbformat_minor": 2
}
